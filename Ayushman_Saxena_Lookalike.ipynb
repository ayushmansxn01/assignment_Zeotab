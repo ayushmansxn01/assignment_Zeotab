{
 "cells": [
  {
   "cell_type": "markdown",
   "id": "2954418f",
   "metadata": {},
   "source": [
    "# Task 2: Lookalike Model "
   ]
  },
  {
   "cell_type": "code",
   "execution_count": 1,
   "id": "1770cd46",
   "metadata": {},
   "outputs": [],
   "source": [
    "import pandas as pd\n",
    "\n",
    "# Load the datasets\n",
    "customers_df = pd.read_csv('Customers.csv')\n",
    "products_df = pd.read_csv('Products.csv')\n",
    "transactions_df = pd.read_csv('Transactions.csv')"
   ]
  },
  {
   "cell_type": "code",
   "execution_count": 3,
   "id": "04bbfcfa",
   "metadata": {},
   "outputs": [],
   "source": [
    "from sklearn.metrics.pairwise import cosine_similarity\n",
    "from sklearn.preprocessing import StandardScaler\n",
    "import csv\n",
    "\n",
    "# Merge customer and transaction data\n",
    "customer_transactions = transactions_df.groupby('CustomerID').agg({\n",
    "    'TotalValue': 'sum',\n",
    "    'Quantity': 'sum',\n",
    "    'TransactionDate': 'count'\n",
    "}).reset_index()\n",
    "customer_transactions = customer_transactions.merge(customers_df, on='CustomerID')\n",
    "\n",
    "# Feature engineering\n",
    "features = customer_transactions[['TotalValue', 'Quantity', 'TransactionDate']]\n",
    "scaler = StandardScaler()\n",
    "scaled_features = scaler.fit_transform(features)\n",
    "\n",
    "# Compute similarity matrix\n",
    "similarity_matrix = cosine_similarity(scaled_features)\n",
    "\n",
    "# Function to get top 3 similar customers\n",
    "def get_top_similar_customers(customer_index, similarity_matrix, top_n=3):\n",
    "    similar_customers = list(enumerate(similarity_matrix[customer_index]))\n",
    "    similar_customers = sorted(similar_customers, key=lambda x: x[1], reverse=True)[1:top_n+1]\n",
    "    return similar_customers\n",
    "\n",
    "# Example: Get top 3 similar customers for the first 20 customers\n",
    "lookalike_results = {}\n",
    "for i in range(20):\n",
    "    customer_id = customer_transactions.iloc[i]['CustomerID']\n",
    "    similar_customers = get_top_similar_customers(i, similarity_matrix)\n",
    "    # Convert np.float64 to regular float\n",
    "    similar_customers_cleaned = [(customer_transactions.iloc[j]['CustomerID'], float(score)) for j, score in similar_customers]\n",
    "    lookalike_results[customer_id] = similar_customers_cleaned\n",
    "\n",
    "# Save results to CSV\n",
    "with open('Ayushman_Saxena_Lookalike.csv', 'w', newline='') as file:\n",
    "    writer = csv.writer(file)\n",
    "    writer.writerow(['CustomerID', 'SimilarCustomers'])\n",
    "    for customer_id, similar_customers in lookalike_results.items():\n",
    "        writer.writerow([customer_id, similar_customers])\n"
   ]
  },
  {
   "cell_type": "code",
   "execution_count": null,
   "id": "8a9587fc",
   "metadata": {},
   "outputs": [],
   "source": []
  }
 ],
 "metadata": {
  "kernelspec": {
   "display_name": "Python (myenv)",
   "language": "python",
   "name": "myenv"
  },
  "language_info": {
   "codemirror_mode": {
    "name": "ipython",
    "version": 3
   },
   "file_extension": ".py",
   "mimetype": "text/x-python",
   "name": "python",
   "nbconvert_exporter": "python",
   "pygments_lexer": "ipython3",
   "version": "3.9.6"
  }
 },
 "nbformat": 4,
 "nbformat_minor": 5
}
