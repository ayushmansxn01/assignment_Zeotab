{
 "cells": [
  {
   "cell_type": "code",
   "execution_count": 6,
   "id": "ef09704c",
   "metadata": {},
   "outputs": [],
   "source": [
    "import pandas as pd\n",
    "import matplotlib.pyplot as plt\n",
    "import seaborn as sns\n",
    "from fpdf import FPDF\n",
    "\n",
    "# Load datasets\n",
    "customers = pd.read_csv('Customers.csv')\n",
    "products = pd.read_csv('Products.csv')\n",
    "transactions = pd.read_csv('Transactions.csv')"
   ]
  },
  {
   "cell_type": "code",
   "execution_count": 7,
   "id": "4ebb3fd2",
   "metadata": {},
   "outputs": [
    {
     "name": "stdout",
     "output_type": "stream",
     "text": [
      "Index(['ProductID', 'ProductName', 'Category', 'Price'], dtype='object')\n",
      "Index(['TransactionID', 'CustomerID', 'ProductID', 'TransactionDate',\n",
      "       'Quantity', 'TotalValue', 'Price'],\n",
      "      dtype='object')\n"
     ]
    }
   ],
   "source": [
    "print(products.columns)\n",
    "print(transactions.columns)"
   ]
  },
  {
   "cell_type": "code",
   "execution_count": 8,
   "id": "7e6a657d",
   "metadata": {},
   "outputs": [
    {
     "name": "stderr",
     "output_type": "stream",
     "text": [
      "C:\\Users\\Lenovo\\AppData\\Local\\Temp\\ipykernel_19472\\2402269004.py:15: FutureWarning: \n",
      "\n",
      "Passing `palette` without assigning `hue` is deprecated and will be removed in v0.14.0. Assign the `x` variable to `hue` and set `legend=False` for the same effect.\n",
      "\n",
      "  sns.barplot(x=region_sales.index, y=region_sales.values, palette='viridis')\n",
      "C:\\Users\\Lenovo\\AppData\\Local\\Temp\\ipykernel_19472\\2402269004.py:26: FutureWarning: \n",
      "\n",
      "Passing `palette` without assigning `hue` is deprecated and will be removed in v0.14.0. Assign the `x` variable to `hue` and set `legend=False` for the same effect.\n",
      "\n",
      "  sns.barplot(x=top_products.index, y=top_products.values, palette='coolwarm')\n"
     ]
    },
    {
     "name": "stdout",
     "output_type": "stream",
     "text": [
      "PDF report generated successfully!\n"
     ]
    }
   ],
   "source": [
    "\n",
    "\n",
    "# Convert date columns to datetime\n",
    "customers['SignupDate'] = pd.to_datetime(customers['SignupDate'])\n",
    "transactions['TransactionDate'] = pd.to_datetime(transactions['TransactionDate'])\n",
    "\n",
    "# Merge datasets and differentiate Price columns\n",
    "merged_data = transactions.merge(customers, on='CustomerID')\\\n",
    "                          .merge(products, on='ProductID', suffixes=('_trans', '_prod'))\n",
    "\n",
    "# Rename the 'Price' columns to avoid conflict\n",
    "merged_data.rename(columns={'Price_prod': 'ProductPrice', 'Price_trans': 'TransactionPrice'}, inplace=True)\n",
    "\n",
    "# Total sales by region (Total Sales Insight)\n",
    "region_sales = merged_data.groupby('Region')['TotalValue'].sum().sort_values(ascending=False)\n",
    "plt.figure(figsize=(10, 5))\n",
    "sns.barplot(x=region_sales.index, y=region_sales.values, palette='viridis')\n",
    "plt.xlabel(\"Region\")\n",
    "plt.ylabel(\"Total Sales (USD)\")\n",
    "plt.title(\"Total Sales by Region\")\n",
    "region_sales_img = 'region_sales.png'\n",
    "plt.savefig(region_sales_img)  # Save plot as image\n",
    "plt.close()\n",
    "\n",
    "# Top-Selling Products (Insight 1: Product Preference)\n",
    "top_products = merged_data.groupby('ProductName')['TotalValue'].sum().sort_values(ascending=False).head(10)\n",
    "plt.figure(figsize=(10, 5))\n",
    "sns.barplot(x=top_products.index, y=top_products.values, palette='coolwarm')\n",
    "plt.xlabel(\"Product\")\n",
    "plt.ylabel(\"Total Sales (USD)\")\n",
    "plt.title(\"Top-Selling Products\")\n",
    "plt.xticks(rotation=45)\n",
    "top_products_img = 'top_products.png'\n",
    "plt.savefig(top_products_img)  # Save plot as image\n",
    "plt.close()\n",
    "\n",
    "# Seasonal Trends (Insight 2: Seasonal Demand)\n",
    "monthly_sales = merged_data.groupby(merged_data['TransactionDate'].dt.to_period('M'))['TotalValue'].sum()\n",
    "plt.figure(figsize=(10, 5))\n",
    "monthly_sales.plot(kind='line', color='purple')\n",
    "plt.xlabel(\"Month\")\n",
    "plt.ylabel(\"Total Sales (USD)\")\n",
    "plt.title(\"Seasonal Sales Trends\")\n",
    "plt.xticks(rotation=45)\n",
    "seasonal_trends_img = 'seasonal_trends.png'\n",
    "plt.savefig(seasonal_trends_img)  # Save plot as image\n",
    "plt.close()\n",
    "\n",
    "# Customer Loyalty (Insight 4: Loyalty Program)\n",
    "customer_sales = merged_data.groupby('CustomerID')['TotalValue'].sum().sort_values(ascending=False)\n",
    "plt.figure(figsize=(10, 5))\n",
    "sns.histplot(customer_sales, kde=True, color='blue')\n",
    "plt.xlabel(\"Total Sales per Customer (USD)\")\n",
    "plt.ylabel(\"Number of Customers\")\n",
    "plt.title(\"Customer Loyalty Distribution\")\n",
    "customer_loyalty_img = 'customer_loyalty.png'\n",
    "plt.savefig(customer_loyalty_img)  # Save plot as image\n",
    "plt.close()\n",
    "\n",
    "# Pricing Strategy (Insight 5: Premium Products)\n",
    "# Use 'ProductPrice' column after renaming\n",
    "product_prices = merged_data.groupby('ProductName')['ProductPrice'].mean()  # Use 'ProductPrice' from the merged dataset\n",
    "product_revenue = merged_data.groupby('ProductName')['TotalValue'].sum()\n",
    "\n",
    "plt.figure(figsize=(10, 5))\n",
    "sns.scatterplot(x=product_prices, y=product_revenue, color='green')\n",
    "plt.xlabel(\"Product Price (USD)\")\n",
    "plt.ylabel(\"Total Revenue (USD)\")\n",
    "plt.title(\"Pricing Strategy: Price vs Revenue\")\n",
    "pricing_strategy_img = 'pricing_strategy.png'\n",
    "plt.savefig(pricing_strategy_img)  # Save plot as image\n",
    "plt.close()\n",
    "\n",
    "# Insights\n",
    "business_insights = [\n",
    "    \"1. **Top-Selling Products**: A few products dominate sales, indicating high customer preference.\",\n",
    "    \"2. **Seasonal Trends**: Sales peak during specific months, suggesting seasonal demand.\",\n",
    "    \"3. **Regional Performance**: Regions like 'North' and 'West' contribute the most to revenue, highlighting potential for targeted marketing.\",\n",
    "    \"4. **Customer Loyalty**: A small group of customers makes frequent purchases, emphasizing the need for loyalty programs.\",\n",
    "    \"5. **Pricing Strategy**: Higher-priced products drive significant revenue, indicating a focus on premium offerings.\",\n",
    "    \"6. **Total Sales by Region**: The 'North' region leads with the highest sales, followed by 'West'. This suggests regional preferences or higher purchasing power in these areas.\"\n",
    "]\n",
    "\n",
    "# Create PDF\n",
    "pdf = FPDF()\n",
    "pdf.add_page()\n",
    "pdf.set_font(\"Arial\", size=12)\n",
    "\n",
    "# Add title\n",
    "pdf.cell(200, 10, txt=\"Exploratory Data Analysis Report\", ln=True, align=\"C\")\n",
    "\n",
    "# Add insights\n",
    "pdf.set_font(\"Arial\", size=10)\n",
    "for insight in business_insights:\n",
    "    pdf.multi_cell(0, 10, txt=insight)\n",
    "\n",
    "# Add diagrams to PDF in order of insights\n",
    "pdf.add_page()\n",
    "pdf.image(region_sales_img, x=10, y=10, w=180)\n",
    "pdf.add_page()\n",
    "pdf.image(top_products_img, x=10, y=10, w=180)\n",
    "pdf.add_page()\n",
    "pdf.image(seasonal_trends_img, x=10, y=10, w=180)\n",
    "pdf.add_page()\n",
    "pdf.image(customer_loyalty_img, x=10, y=10, w=180)\n",
    "pdf.add_page()\n",
    "pdf.image(pricing_strategy_img, x=10, y=10, w=180)\n",
    "\n",
    "# Save PDF\n",
    "pdf.output(\"Ayushman_Saxena_EDA.pdf\")\n",
    "\n",
    "print(\"PDF report generated successfully!\")"
   ]
  },
  {
   "cell_type": "code",
   "execution_count": null,
   "id": "7f842eb8",
   "metadata": {},
   "outputs": [],
   "source": []
  }
 ],
 "metadata": {
  "kernelspec": {
   "display_name": "Python (myenv)",
   "language": "python",
   "name": "myenv"
  },
  "language_info": {
   "codemirror_mode": {
    "name": "ipython",
    "version": 3
   },
   "file_extension": ".py",
   "mimetype": "text/x-python",
   "name": "python",
   "nbconvert_exporter": "python",
   "pygments_lexer": "ipython3",
   "version": "3.9.6"
  }
 },
 "nbformat": 4,
 "nbformat_minor": 5
}
